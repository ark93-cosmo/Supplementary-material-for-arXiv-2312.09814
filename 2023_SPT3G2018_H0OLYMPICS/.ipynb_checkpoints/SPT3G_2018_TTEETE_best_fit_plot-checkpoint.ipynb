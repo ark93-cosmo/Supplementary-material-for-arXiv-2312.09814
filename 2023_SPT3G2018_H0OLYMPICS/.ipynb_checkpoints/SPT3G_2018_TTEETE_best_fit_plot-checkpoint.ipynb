{
 "cells": [
  {
   "cell_type": "code",
   "execution_count": 5,
   "metadata": {},
   "outputs": [
    {
     "name": "stdout",
     "output_type": "stream",
     "text": [
      "(0.796078431372549, 0.058823529411764705, 0.1568627450980392)\n",
      "0.796078431372549 0.058823529411764705 0.1568627450980392\n",
      "1.0 0.6470588235294118 0.0\n",
      "0.16470588235294117 0.1803921568627451 0.5450980392156862\n",
      "0.0 0.6 0.8\n",
      "0.0 0.8666666666666667 0.20392156862745098\n",
      "0.0 0.75 0.75\n",
      "0.0 0.0 0.0\n",
      "0.796078431372549 0.058823529411764705 0.1568627450980392\n",
      "1.0 0.6470588235294118 0.0\n",
      "0.16470588235294117 0.1803921568627451 0.5450980392156862\n"
     ]
    }
   ],
   "source": [
    "#############\n",
    "#S. Galli May 2023. Script to plot Planck and SPT 2018 data with respect to the Planck 2018 best-fit data. I adopted an approximation\n",
    "#to bin the Planck error bars with the same binning as SPT.\n",
    "#############\n",
    "\n",
    "\n",
    "\n",
    "%matplotlib inline\n",
    "%config InlineBackend.figure_format = 'retina'\n",
    "from scipy.io import FortranFile\n",
    "\n",
    "from pylab import rcParams\n",
    "rcParams['figure.figsize'] = 12, 6\n",
    "from head_classes_2018 import *\n",
    "import matplotlib.pyplot as plt\n",
    "from matplotlib.lines import Line2D\n",
    "import numpy as nm\n",
    "import matplotlib.gridspec as gridspec\n",
    "\n",
    "#import getdist\n",
    "#from getdist import plots\n",
    "import pickle as pkl\n",
    "from copy import deepcopy\n",
    "import matplotlib.transforms as transforms\n",
    "import scipy\n",
    "from matplotlib import patches\n",
    "import color_utilities as cu\n",
    "\n",
    "#import camb\n",
    "#from camb import model, initialpower\n",
    "\n",
    "#import sigfig\n",
    "import seaborn as sns\n",
    "def cm2inch(cm):\n",
    "    \"\"\"Centimeters to inches\"\"\"\n",
    "    return cm *0.393701\n",
    "def rgb2hex(r,g,b):\n",
    "    print (r,g,b)\n",
    "    N=255.0\n",
    "    return '#%02x%02x%02x' % (int(r*N), int(g*N), int(b*N))\n",
    "print(cu.nice_colors(0))\n",
    "ci = [rgb2hex(*cu.nice_colors(i)) for i in range(10)]\n",
    "params = {'backend': 'pdf',\n",
    "          'axes.labelsize': 9,\n",
    "          'font.size': 8,\n",
    "          'legend.fontsize': 8,\n",
    "          'xtick.labelsize': 8,\n",
    "          'ytick.labelsize': 8,\n",
    "          'ytick.major.pad': 4,\n",
    "          'xtick.major.pad': 4,\n",
    "          'text.usetex': True,\n",
    "          'font.family': 'sans-serif',\n",
    "          # free font similar to Helvetica                                                                                                                                                                   \n",
    "          'font.sans-serif': 'FreeSans'}\n",
    "%run './rebin_py3.py'"
   ]
  },
  {
   "cell_type": "code",
   "execution_count": 3,
   "metadata": {},
   "outputs": [],
   "source": [
    "### Models to plot"
   ]
  },
  {
   "cell_type": "code",
   "execution_count": 4,
   "metadata": {},
   "outputs": [
    {
     "ename": "NameError",
     "evalue": "name 'dirdata' is not defined",
     "output_type": "error",
     "traceback": [
      "\u001b[0;31m---------------------------------------------------------------------------\u001b[0m",
      "\u001b[0;31mNameError\u001b[0m                                 Traceback (most recent call last)",
      "\u001b[0;32m<ipython-input-4-762768fb921d>\u001b[0m in \u001b[0;36m<module>\u001b[0;34m()\u001b[0m\n\u001b[1;32m      3\u001b[0m \u001b[0mmods\u001b[0m\u001b[0;34m=\u001b[0m\u001b[0;34m{\u001b[0m\u001b[0;34m}\u001b[0m\u001b[0;34m\u001b[0m\u001b[0m\n\u001b[1;32m      4\u001b[0m \u001b[0;32mfor\u001b[0m \u001b[0mff\u001b[0m \u001b[0;32min\u001b[0m \u001b[0mfilenames\u001b[0m\u001b[0;34m:\u001b[0m\u001b[0;34m\u001b[0m\u001b[0m\n\u001b[0;32m----> 5\u001b[0;31m     \u001b[0mmods\u001b[0m\u001b[0;34m[\u001b[0m\u001b[0mff\u001b[0m\u001b[0;34m[\u001b[0m\u001b[0;36m0\u001b[0m\u001b[0;34m]\u001b[0m\u001b[0;34m]\u001b[0m\u001b[0;34m=\u001b[0m\u001b[0mnm\u001b[0m\u001b[0;34m.\u001b[0m\u001b[0mloadtxt\u001b[0m\u001b[0;34m(\u001b[0m\u001b[0mdirdata\u001b[0m\u001b[0;34m+\u001b[0m\u001b[0mff\u001b[0m\u001b[0;34m[\u001b[0m\u001b[0;36m1\u001b[0m\u001b[0;34m]\u001b[0m\u001b[0;34m)\u001b[0m\u001b[0;34m\u001b[0m\u001b[0m\n\u001b[0m\u001b[1;32m      6\u001b[0m \u001b[0;34m\u001b[0m\u001b[0m\n\u001b[1;32m      7\u001b[0m \u001b[0;34m\u001b[0m\u001b[0m\n",
      "\u001b[0;31mNameError\u001b[0m: name 'dirdata' is not defined"
     ]
    }
   ],
   "source": [
    "\n",
    "#Example of model to plot as a difference with LCDM\n",
    "dirdata='TTTEEE_2018_datapoints/'\n",
    "filenames=[['Planck 2018 $A_L$','base_Alens_plikHM_TTTEEE_lowl_lowE.minimum.theory_cl']]\n",
    "mods={}\n",
    "for ff in filenames:\n",
    "    mods[ff[0]]=nm.loadtxt(dirdata+ff[1])\n",
    "    \n",
    "\n"
   ]
  },
  {
   "cell_type": "markdown",
   "metadata": {},
   "source": []
  },
  {
   "cell_type": "markdown",
   "metadata": {},
   "source": [
    "# SPT-3G bandpowers"
   ]
  },
  {
   "cell_type": "code",
   "execution_count": null,
   "metadata": {},
   "outputs": [],
   "source": [
    "spt=nm.loadtxt(dirdata+\"SPT3G_2018_TTTEEE_MV_bdp.txt\") \n",
    "#(1) ell_min, (2) ell_max, (3) TT ell_center, (4) TT, (5) sigma_TT, (6) TE ell_center, (7) TE, (8) sigma_TE, (9) EE ell_center, (10) EE, (11) sigma_EE.\n",
    "sind={'ellTT':2,'TT':3,'errTT':4,'ellTE':5,'TE':6,'errTE':7,'ellEE':8,'EE':9,'errEE':10}\n",
    "pol='TT'\n",
    "nn=44; plt.plot(spt[:nn,sind['ell'+pol]],spt[:nn,sind[pol]])\n",
    "#print(spt[nn,sind['ell'+pol]],spt[nn,sind[pol]])"
   ]
  },
  {
   "cell_type": "markdown",
   "metadata": {},
   "source": [
    "### Planck CMB best fit binned with SPT-3G windows and zero foregrounds (slightly different per frequency because windows include beams)"
   ]
  },
  {
   "cell_type": "code",
   "execution_count": null,
   "metadata": {},
   "outputs": [],
   "source": [
    "SPTth=nm.loadtxt(dirdata+\"base_plik_rd12_HM_v22_TTTEEE_lowlv3_simall_EE_forSPT3GTTTEEE_zeroforegrounds/SPT3G_Y1_TTEETE_bandpowers_columns.txt\")\n",
    "#plt.plot(spt[:,sind['ellEE']],spt[:,sind['EE']])\n",
    "thind={'TT':1,'TE':2,'EE':3}"
   ]
  },
  {
   "cell_type": "markdown",
   "metadata": {},
   "source": [
    "###  SPT residuals\n"
   ]
  },
  {
   "cell_type": "code",
   "execution_count": null,
   "metadata": {},
   "outputs": [],
   "source": [
    "resspt={}\n",
    "pols=['TT','TE','EE']\n",
    "\n",
    "for pol in pols:\n",
    "    resspt[pol]=spt[:,sind[pol]]-SPTth[:,thind[pol]]"
   ]
  },
  {
   "cell_type": "markdown",
   "metadata": {},
   "source": [
    "### Planck and ACT bandpowers"
   ]
  },
  {
   "cell_type": "code",
   "execution_count": null,
   "metadata": {},
   "outputs": [],
   "source": [
    "\n",
    "PLb={}\n",
    "PL={}\n",
    "temp=nm.loadtxt(dirdata+'COM_PowerSpect_CMB-TE-full_R3.01.txt')\n",
    "PL['TE']=temp[:,0:3]\n",
    "temp=nm.loadtxt(dirdata+'COM_PowerSpect_CMB-TT-full_R3.01.txt')\n",
    "PL['TT']=temp[:,0:3]\n",
    "\n",
    "temp=nm.loadtxt(dirdata+'COM_PowerSpect_CMB-EE-full_R3.01.txt')\n",
    "PL['EE']=temp[:,0:3]\n",
    "planckth=nm.loadtxt(dirdata+'base_plikHM_TTTEEE_lowl_lowE_lensing.minimum.theory_cl')\n",
    "\n",
    "plt.plot(PL['TT'][:,1]-planckth[:,1])\n",
    "\n"
   ]
  },
  {
   "cell_type": "markdown",
   "metadata": {},
   "source": [
    "### Planck rebinning"
   ]
  },
  {
   "cell_type": "code",
   "execution_count": null,
   "metadata": {},
   "outputs": [],
   "source": [
    "\n",
    "relcuts=nm.array(list(range(0,2000,50))+list(range(2000,3000,100)))\n",
    "planckthb={}\n",
    "resplanck={}\n",
    "for pol in ['TT','TE','EE']:\n",
    "    bins=get_l_rebinning(relcuts,PL[pol][0,0],PL[pol][-1,0],ellb=PL[pol][:,0],Dl=True)\n",
    "    print(nm.shape(bins))\n",
    "\n",
    "    PLb[pol]=nm.zeros((bins.shape[0],3))\n",
    "    for ii in range(2):\n",
    "        PLb[pol][:,ii]=rebin_vec(PL[pol][:,ii],bins)\n",
    "    print(pol),print()\n",
    "    cov=rebin_diag_cov(PL[pol][:,2],bins,var=False)\n",
    "    PLb[pol][:,2]=nm.sqrt(nm.diagonal(cov)) ###Note this is an approximate way of getting errors!!!!! Not with the full covmat\n",
    "    binsth=get_l_rebinning(relcuts,PL[pol][0,0],PL[pol][-1,0],ellb=planckth[:,0],Dl=True)\n",
    "\n",
    "    planckthb[pol]=rebin_vec(planckth[:,thind[pol]],binsth)\n",
    "\n",
    "    plt.plot(PLb[pol][:,0],PLb[pol][:,1]-planckthb[pol])\n",
    "    resplanck[pol]=PLb[pol][:,1]-planckthb[pol]"
   ]
  },
  {
   "cell_type": "markdown",
   "metadata": {},
   "source": [
    "\n",
    "# $\\Lambda$CDM"
   ]
  },
  {
   "cell_type": "code",
   "execution_count": null,
   "metadata": {
    "collapsed": true
   },
   "outputs": [],
   "source": [
    "fs=8\n",
    "##C60F7B' # '#FF3366'\n",
    "cc=['k','#41D3BD','#6495ed','#C60F7B','#41D3BD','#8c7bf0','#41D3BD','#FFAE03']\n",
    "#plotexp={'Planck':['#6495ed',1.5],'ACTDR4':['#8c7bf0',1],'SPT-3G 1yr':['#FFAE03',1]}#'#ffcf00'}                               \n",
    "width=8\n",
    "ww=cm2inch(width)\n",
    "hh=cm2inch(width*0.8)\n",
    "figsize=(ww,hh)\n",
    "\n",
    "ls=['-','--',':','--']\n",
    "f = plt.figure(figsize=figsize,dpi=300)\n",
    "#fs=12\n",
    "labelx = -0.1  # axes coords\n",
    "polstoplot=['TT','TE','EE']\n",
    "gs = gridspec.GridSpec(len(polstoplot),1)\n",
    "f.set_facecolor('white')\n",
    "f.subplots_adjust(wspace=0, hspace=0)\n",
    "#lims={'TE':[-1.99,1.6],'EE':[-0.15,0.22]}\n",
    "#lims={'TE':[-3.1,2],'EE':[-0.3,0.3]}\n",
    "lims={'TT':[-40,40],'TE':[-4,4],'EE':[-0.3,0.3]}\n",
    "\n",
    "\n",
    "\n",
    "#res['EE']=nm.loadtxt('../SPT3G_residuals/Silvia_best_fit/LCDMSPT3GY1residualsEE')\n",
    "#res['TE']=nm.loadtxt('../SPT3G_residuals/Silvia_best_fit/LCDMSPT3GY1residualsTE')\n",
    "\n",
    "polstoplot=['TT','TE','EE']\n",
    "\n",
    "for npol,pol in enumerate(polstoplot):\n",
    "    ax = f.add_subplot(gs[npol,:])\n",
    "    fact=1\n",
    "    #   ax.plot(bfnl[:,0],fact*(bfnb[:,indpol[pol]]-bfnl[:,indpol[pol]]),lw=0.8,alpha=0.8,color=ci[0],ls=ls[0],label=r'$\\Lambda CDM+b$')\n",
    "    #   ax.plot(bfl[:,0],fact*(bfnny[:,indpol[pol]]-bfnl[:,indpol[pol]]),lw=0.8,alpha=0.8,color=ci[2],ls=ls[1],label=r'$\\Lambda CDM+N_{\\rm eff}+Y_{\\rm He}$')\n",
    "    #   ax.plot(bfnl[:,0],(bfnk[:,indpol[pol]])*0.,lw=0.8,alpha=0.8,color='gray',ls='-',zorder=0)\n",
    "    plt.errorbar(spt[:,sind['ell'+pol]],resspt[pol],spt[:,sind['err'+pol]],label='SPT-3G 2018',marker='o',ms=0.8,lw=0.5,zorder=5,c='#b4b4b4',ls='')\n",
    "    plt.errorbar(PLb[pol][:,0],resplanck[pol],PLb[pol][:,2],label='Planck',marker='o',ms=0.8,lw=0.5,zorder=6,c='#000080',ls='',alpha=0.4)\n",
    "    for ff in mods.keys():\n",
    "        plt.plot(planckth[:,0],mods[ff][:,thind[pol]]-planckth[:,thind[pol]],label=ff,lw=1,zorder=1)\n",
    "\n",
    "    ##b4b4b4\n",
    "    ax.set_ylabel(r'$\\Delta\\mathcal{D}_\\ell^{'+pol+'}$',fontsize=fs)\n",
    "    ax.yaxis.set_label_coords(labelx, 0.5)\n",
    "    if not pol==polstoplot[-1]:\n",
    "        ax.set_xticks([])\n",
    "    if pol==polstoplot[0]:\n",
    "        plt.legend(frameon=False,prop={'size': fs-2},loc='upper right')\n",
    "    lims={'TT':[-40,40],'TE':[-10,10],'EE':[-4,4]}\n",
    "    xmin=300\n",
    "    ax.set_ylim(lims[pol][0],lims[pol][1])\n",
    "    ax.set_xlim(xmin,3000)\n",
    "    ax.tick_params(axis='both', which='major', labelsize=fs)#,labelbottom=labot)\n",
    "    ax.tick_params(axis='both',which='minor')\n",
    "    plt.minorticks_on()\n",
    "    plt.plot([xmin,3000],[0,0],c='k',lw=1,zorder=0)\n",
    "\n",
    "\n",
    "    #  ax.plot(dl[ff][:,0]-30,dl[ff][:,ind[pol]],lw=1,ls=':',color='orange',label=labextra)\n",
    "f.subplots_adjust(left=0.14,top=0.97,bottom=0.16,right=0.99)\n",
    "\n",
    "\n",
    "ax.set_xlabel(r'$\\ell$',fontsize=fs)\n",
    "plt.savefig('difference_BF_SPTTTTEEE_Planck.pdf')\n",
    "\n",
    "plt.show()"
   ]
  },
  {
   "cell_type": "code",
   "execution_count": null,
   "metadata": {},
   "outputs": [],
   "source": []
  }
 ],
 "metadata": {
  "hide_input": false,
  "kernelspec": {
   "display_name": "Python 3",
   "language": "python",
   "name": "python3"
  },
  "language_info": {
   "codemirror_mode": {
    "name": "ipython",
    "version": 3
   },
   "file_extension": ".py",
   "mimetype": "text/x-python",
   "name": "python",
   "nbconvert_exporter": "python",
   "pygments_lexer": "ipython3",
   "version": "3.6.3"
  },
  "toc": {
   "base_numbering": 1,
   "nav_menu": {},
   "number_sections": true,
   "sideBar": true,
   "skip_h1_title": false,
   "title_cell": "Table of Contents",
   "title_sidebar": "Contents",
   "toc_cell": false,
   "toc_position": {
    "height": "calc(100% - 180px)",
    "left": "10px",
    "top": "150px",
    "width": "452px"
   },
   "toc_section_display": true,
   "toc_window_display": true
  }
 },
 "nbformat": 4,
 "nbformat_minor": 4
}
